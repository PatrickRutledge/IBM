{
 "cells": [
  {
   "cell_type": "markdown",
   "id": "4629c61c-f2b9-48d4-9513-1bd6966796ab",
   "metadata": {},
   "source": [
    "# Data Science Tools and Ecosystem"
   ]
  },
  {
   "cell_type": "markdown",
   "id": "2c295b89-a11e-4a93-a2a0-53d61a27fdd8",
   "metadata": {},
   "source": [
    "In this notebook, Data Science Tools and Ecosystem are summarized."
   ]
  },
  {
   "cell_type": "markdown",
   "id": "277c222c-e379-455f-a593-5f592a56a692",
   "metadata": {},
   "source": [
    "Some of the popular languages that Data Scientists use are:\n",
    "1.  Python\n",
    "2.  R\n",
    "3.  Fortran\n",
    "4.  COBOL\n",
    "5.  QBasic\n",
    "6.  Visual Basic\n",
    "7.  C"
   ]
  },
  {
   "cell_type": "markdown",
   "id": "05685d7d-b697-4d4e-b93b-fc44dc24f801",
   "metadata": {},
   "source": [
    "Some of the commonly used libraries used by Data Scientists include:\n",
    "1. NumPy\n",
    "2. Pandas\n",
    "3. Seaborn\n",
    "4. Matplotlib\n",
    "5. SCIPy"
   ]
  },
  {
   "cell_type": "markdown",
   "id": "8ddfb607-2066-4f6b-9bfe-9df88010500c",
   "metadata": {},
   "source": [
    "### Below are a few examples of evaluating arithmetic expressions in Python\n",
    "\n",
    "This a simple arithmetic expression to mutiply then add integers"
   ]
  },
  {
   "cell_type": "code",
   "execution_count": 3,
   "id": "56f6cbc2-3218-41e6-bce5-4fa977521d07",
   "metadata": {},
   "outputs": [
    {
     "data": {
      "text/plain": [
       "17"
      ]
     },
     "execution_count": 3,
     "metadata": {},
     "output_type": "execute_result"
    }
   ],
   "source": [
    "(3*4)+5"
   ]
  },
  {
   "cell_type": "code",
   "execution_count": 4,
   "id": "139c6e75-b1ed-4149-84d0-6a57f35e4def",
   "metadata": {},
   "outputs": [
    {
     "data": {
      "text/plain": [
       "3.3333333333333335"
      ]
     },
     "execution_count": 4,
     "metadata": {},
     "output_type": "execute_result"
    }
   ],
   "source": [
    "# This will convert 200 minutes to hours by dividing by 60.\n",
    "200 / 60\n"
   ]
  },
  {
   "cell_type": "markdown",
   "id": "b272a81c-acd7-4849-98b3-008ada47aaf9",
   "metadata": {},
   "source": [
    "\n",
    "**Objectives:**\n",
    "\n",
    "* List popular languages data scientists use.\n",
    "* List common libraries used by data scientists.\n",
    "* Insert and format a heading.\n",
    "* Format some font with Bold.\n",
    "* First multiply 3 times 5 to get 15 then add five."
   ]
  },
  {
   "cell_type": "markdown",
   "id": "9401ce8f-8289-4d99-b0d0-5c6d0a26b831",
   "metadata": {},
   "source": [
    "## Author\n",
    "Patrick Rutledge"
   ]
  },
  {
   "cell_type": "code",
   "execution_count": null,
   "id": "b3eedaa1-b35e-41d1-af70-1b7fe725593e",
   "metadata": {},
   "outputs": [],
   "source": []
  }
 ],
 "metadata": {
  "kernelspec": {
   "display_name": "Python 3 (ipykernel)",
   "language": "python",
   "name": "python3"
  },
  "language_info": {
   "codemirror_mode": {
    "name": "ipython",
    "version": 3
   },
   "file_extension": ".py",
   "mimetype": "text/x-python",
   "name": "python",
   "nbconvert_exporter": "python",
   "pygments_lexer": "ipython3",
   "version": "3.12.9"
  }
 },
 "nbformat": 4,
 "nbformat_minor": 5
}
